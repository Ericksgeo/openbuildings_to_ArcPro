{
 "cells": [
  {
   "cell_type": "code",
   "execution_count": 2,
   "metadata": {},
   "outputs": [],
   "source": [
    "\n",
    "from geopandas import GeoDataFrame\n",
    "from shapely import wkt\n",
    "from arcgis.features import GeoAccessor\n",
    "\n"
   ]
  },
  {
   "cell_type": "code",
   "execution_count": 9,
   "metadata": {},
   "outputs": [
    {
     "name": "stdout",
     "output_type": "stream",
     "text": [
      "C:\temp_GIS2\\sat_lb\\sat_lb.gduil\n"
     ]
    }
   ],
   "source": [
    "print(buil)"
   ]
  },
  {
   "cell_type": "code",
   "execution_count": 3,
   "metadata": {},
   "outputs": [],
   "source": [
    "buil = r'C:\\temp_GIS2\\sat_lb\\sat_lb.gdb\\buil'\n",
    "\n"
   ]
  },
  {
   "cell_type": "code",
   "execution_count": 4,
   "metadata": {},
   "outputs": [],
   "source": [
    "import arcpy\n",
    "import pandas as pd\n",
    "\n",
    "columns = [f.name for f in arcpy.ListFields(buil)] \n",
    "df = pd.DataFrame(data=arcpy.da.SearchCursor(buil, columns), columns=columns)"
   ]
  },
  {
   "cell_type": "code",
   "execution_count": 6,
   "metadata": {},
   "outputs": [
    {
     "name": "stdout",
     "output_type": "stream",
     "text": [
      "         OBJECTID  ...  full_plus_code\n",
      "0               1  ...   5GFPR55H+CP58\n",
      "1               2  ...   5GFGJRHG+RX42\n",
      "2               3  ...   5G8GMC92+JMV2\n",
      "3               4  ...   5G7FFCMF+XPW7\n",
      "4               5  ...   5G7CWW4R+GX59\n",
      "...           ...  ...             ...\n",
      "9547106   9547107  ...   5GFHMH4Q+6XP6\n",
      "9547107   9547108  ...   5G8FFR6P+4G56\n",
      "9547108   9547109  ...   5G7G96CV+W9V6\n",
      "9547109   9547110  ...   5GGH989C+7R28\n",
      "9547110   9547111  ...   5GFH74Q8+GRRM\n",
      "\n",
      "[9547111 rows x 7 columns]\n",
      "['OBJECTID', 'latitude', 'longitude', 'area_in_meters', 'confidence', 'geometry', 'full_plus_code']\n"
     ]
    }
   ],
   "source": [
    "print(df)\n",
    "print(columns)"
   ]
  },
  {
   "cell_type": "code",
   "execution_count": 8,
   "metadata": {},
   "outputs": [],
   "source": [
    "gdf = GeoDataFrame(df, crs=\"EPSG:4326\", geometry=df['geometry'].apply(wkt.loads))\n",
    "sedf = GeoAccessor.from_geodataframe(gdf)\n",
    "\n",
    "sedf.spatial.to_featureclass('C:\\temp_GIS2\\sat_lb\\sat_lb.gdb\\buil2')"
   ]
  },
  {
   "cell_type": "code",
   "execution_count": 9,
   "metadata": {
    "scrolled": true
   },
   "outputs": [
    {
     "name": "stdout",
     "output_type": "stream",
     "text": [
      "         OBJECTID  ...                                              SHAPE\n",
      "0               1  ...  {\"rings\": [[[34.1794014462707, -20.19152763755...\n",
      "1               2  ...  {\"rings\": [[[30.8274774784811, -20.37048492058...\n",
      "2               3  ...  {\"rings\": [[[30.4016896274654, -23.33092071444...\n",
      "3               4  ...  {\"rings\": [[[29.4244140606369, -24.51506620279...\n",
      "4               5  ...  {\"rings\": [[[28.9425695610755, -24.09374500373...\n",
      "...           ...  ...                                                ...\n",
      "9547106   9547107  ...  {\"rings\": [[[31.5899731487594, -20.34445170570...\n",
      "9547107   9547108  ...  {\"rings\": [[[29.83640960983, -23.5397451577545...\n",
      "9547108   9547109  ...  {\"rings\": [[[30.2434371081154, -24.62763599099...\n",
      "9547109   9547110  ...  {\"rings\": [[[31.3220422738298, -19.63188746986...\n",
      "9547110   9547111  ...  {\"rings\": [[[31.1170333889263, -20.71115620787...\n",
      "\n",
      "[9547111 rows x 7 columns]\n"
     ]
    }
   ],
   "source": [
    "print(sedf)\n"
   ]
  },
  {
   "cell_type": "code",
   "execution_count": 19,
   "metadata": {},
   "outputs": [
    {
     "name": "stdout",
     "output_type": "stream",
     "text": [
      "C:\temp_GIS2\\sat_lb\\sat_lb.gduil2\n"
     ]
    }
   ],
   "source": [
    "print('C:\\temp_GIS2\\sat_lb\\sat_lb.gdb\\buil2')"
   ]
  },
  {
   "cell_type": "code",
   "execution_count": null,
   "metadata": {},
   "outputs": [],
   "source": []
  },
  {
   "cell_type": "code",
   "execution_count": null,
   "metadata": {},
   "outputs": [],
   "source": []
  },
  {
   "cell_type": "code",
   "execution_count": null,
   "metadata": {},
   "outputs": [],
   "source": []
  },
  {
   "cell_type": "code",
   "execution_count": null,
   "metadata": {},
   "outputs": [],
   "source": []
  }
 ],
 "metadata": {
  "kernelspec": {
   "display_name": "ArcGISPro",
   "language": "Python",
   "name": "python3"
  },
  "language_info": {
   "file_extension": ".py",
   "name": "python",
   "version": "3"
  }
 },
 "nbformat": 4,
 "nbformat_minor": 2
}
